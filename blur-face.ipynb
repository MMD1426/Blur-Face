{
 "cells": [
  {
   "cell_type": "code",
   "execution_count": 1,
   "metadata": {},
   "outputs": [],
   "source": [
    "import cv2"
   ]
  },
  {
   "cell_type": "code",
   "execution_count": 2,
   "metadata": {},
   "outputs": [],
   "source": [
    "input_Cascade = 'haarcascade_frontalface_default.xml'\n",
    "face_Cascade = cv2.CascadeClassifier(input_Cascade)\n",
    "\n",
    "while True:\n",
    "    cap = cv2.VideoCapture(0)\n",
    "    ret,frame = cap.read()\n",
    "\n",
    "    face = face_Cascade.detectMultiScale(frame)\n",
    "\n",
    "    for (x,y,w,h) in face:\n",
    "        rio = frame[y:y+h,x:x+w]\n",
    "        blur_face = cv2.blur(rio,(17,17))\n",
    "        frame[y:y+h,x:x+w] = blur_face\n",
    "\n",
    "    cv2.imshow(\"BlurFace\",frame)\n",
    "\n",
    "    if cv2.waitKey(1) & 0xFF == ord('q'):\n",
    "        break\n",
    "\n",
    "cap.release()\n",
    "cv2.destroyAllWindows()"
   ]
  }
 ],
 "metadata": {
  "kernelspec": {
   "display_name": "Python 3",
   "language": "python",
   "name": "python3"
  },
  "language_info": {
   "codemirror_mode": {
    "name": "ipython",
    "version": 3
   },
   "file_extension": ".py",
   "mimetype": "text/x-python",
   "name": "python",
   "nbconvert_exporter": "python",
   "pygments_lexer": "ipython3",
   "version": "3.12.0"
  }
 },
 "nbformat": 4,
 "nbformat_minor": 2
}
